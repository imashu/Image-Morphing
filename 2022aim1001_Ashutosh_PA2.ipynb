{
  "cells": [
    {
      "cell_type": "markdown",
      "source": [
        "### Image Morphing"
      ],
      "metadata": {
        "id": "wQms2QNfFEFk"
      }
    },
    {
      "cell_type": "code",
      "source": [
        "#import necessary libraries\n",
        "\n",
        "import cv2\n",
        "import dlib\n",
        "import numpy as np\n",
        "from scipy.spatial import Delaunay\n",
        "import imageio\n",
        "from google.colab.patches import cv2_imshow\n",
        "from imutils import face_utils\n",
        "from PIL import Image"
      ],
      "metadata": {
        "id": "aolqt5Q8ZrUd"
      },
      "execution_count": 116,
      "outputs": []
    },
    {
      "cell_type": "code",
      "source": [
        "#run once to load the .dat file\n",
        "!wget   http://dlib.net/files/shape_predictor_68_face_landmarks.dat.bz2 # DOWNLOAD LINK\n",
        "\n",
        "!bunzip2 /content/shape_predictor_68_face_landmarks.dat.bz2\n",
        "\n",
        "datFile =  \"/content/shape_predictor_68_face_landmarks.dat\""
      ],
      "metadata": {
        "id": "vFWaHIs-k6wm"
      },
      "execution_count": 117,
      "outputs": []
    },
    {
      "cell_type": "code",
      "source": [
        "def cnvt_colour_bgr2rgb(image): \n",
        "  return cv2.cvtColor(image, cv2.COLOR_BGR2RGB)"
      ],
      "metadata": {
        "id": "A2ctWKSGxC8G"
      },
      "execution_count": 118,
      "outputs": []
    },
    {
      "cell_type": "code",
      "source": [
        "def find_facial_tilepts(img):\n",
        "    # Detect faces in the image\n",
        "    faces = detector(img)\n",
        "\n",
        "    no_pnt=0\n",
        "    # Get the facial landmarks for the first detected face\n",
        "    shape = predictor(img, faces[0])\n",
        "\n",
        "    no_pnt+=1\n",
        "    # print(no_pnt)\n",
        "    # Extract the x and y coordinates of each landmark and store them in a numpy array\n",
        "    tile_pts_ = np.array([[p.x, p.y] for p in shape.parts()], dtype=np.int32)\n",
        "\n",
        "    # Create a list of numpy arrays containing the landmarks for each face detected in the image\n",
        "    tile_pts = [tile_pts_]\n",
        "\n",
        "    # Return the list of landmarks\n",
        "    return tile_pts\n"
      ],
      "metadata": {
        "id": "ntrzr7RXZybl"
      },
      "execution_count": 119,
      "outputs": []
    },
    {
      "cell_type": "code",
      "source": [
        "# This function takes an image as input and returns a list of coordinates that mark the facial features\n",
        "\n",
        "def mark_coord(img):\n",
        "    triangle=[]\n",
        "    h, w, c = img.shape\n",
        "    # Convert the image to grayscale\n",
        "    img_bw = cv2.cvtColor(img, cv2.COLOR_BGR2GRAY)\n",
        "\n",
        "    # Detect the face and get its coordinates\n",
        "    rect_cordinates = detector(img_bw, 0)\n",
        "\n",
        "    # Use the facial landmark predictor to get the coordinates of the facial features\n",
        "    shaped = face_utils.shape_to_np(predictor(img_bw, rect_cordinates[0]))\n",
        "    for cd in shaped:\n",
        "      # Create a list of tuples that contains the (x, y) coordinates of the facial features\n",
        "      triangle.append((int(cd[0]),int(cd[1])) )\n",
        "     # Add four additional corner points to the list to define a rectangular region that contains the entire image\n",
        "    triangle += [(0, 0), (0, h-1), (w-1, h-1), (w-1, 0)]\n",
        "    return triangle"
      ],
      "metadata": {
        "id": "QliQrFMaaAv1"
      },
      "execution_count": 120,
      "outputs": []
    },
    {
      "cell_type": "code",
      "source": [
        "#delaunay triangulation using cv2.SudDiv2D\n",
        "\n",
        "def delaunay_triangulation(points, image):\n",
        "    # Create a Subdiv2D object and insert points into it\n",
        "    no_pnt=0\n",
        "    height, width, channels = image.shape\n",
        "    subdiv = cv2.Subdiv2D((0, 0, width, height))\n",
        "    tri=[]\n",
        "    no_pnt+=1\n",
        "    for point in points:\n",
        "        subdiv.insert(point)\n",
        "    for i in range(no_pnt):\n",
        "        tri.append(i)\n",
        "\n",
        "    # Retrieve the list of triangles from the Subdiv2D object\n",
        "    triangle_list = subdiv.getTriangleList()\n",
        "    \n",
        "    return triangle_list"
      ],
      "metadata": {
        "id": "T8V1o-SPaM7i"
      },
      "execution_count": 121,
      "outputs": []
    },
    {
      "cell_type": "code",
      "source": [
        "def check_index(pt, triangle):\n",
        "\n",
        "    t = None\n",
        "    for i, index in enumerate(triangle):\n",
        "\n",
        "        if pt == index:\n",
        "            t = i\n",
        "            break\n",
        "    return t"
      ],
      "metadata": {
        "id": "JM6-d8zwaSo8"
      },
      "execution_count": 122,
      "outputs": []
    },
    {
      "cell_type": "code",
      "source": [
        "def Transform_mid(tri_1, tri_2, rect, rect1, rect2):\n",
        "    tri_1_cropped, tri_2_cropped, t_cropped = [],[],[]\n",
        "    # rect = cv2.boundingRect(np.float32([tri_1]))\n",
        "    # rec_coord_2 = cv2.boundingRect(np.float32([tri_2]))\n",
        "\n",
        "    size = (rect[2], rect[3])\n",
        "  \n",
        "    return tri_1_cropped, tri_2_cropped, t_cropped"
      ],
      "metadata": {
        "id": "b73-HAVTaYss"
      },
      "execution_count": 123,
      "outputs": []
    },
    {
      "cell_type": "code",
      "source": [
        "#Combine input and output via affine transform\n",
        "def Affine_transform(img1, img2, img, tri_1, tri_2, interm_pt, alpha):\n",
        "    rec_coord = cv2.boundingRect(np.float32([interm_pt]))\n",
        "    t1,t2=[],[]\n",
        "    rec_cd_1=np.float32([tri_1])\n",
        "    rec_cd_2= np.float32([tri_2])\n",
        "    pt=3\n",
        "    tri_1_cr, tri_2_cr, t_cr = [],[],[]\n",
        "    rec_cd = cv2.boundingRect(np.float32([interm_pt]))\n",
        "    tri_1_cr, tri_2_cr, t_cr = Transform_mid(t1, t2, rec_cd, rec_cd_1, rec_cd_2)\n",
        "    tri_1_crop, tri_2_crop, t_crop = [],[],[]\n",
        "\n",
        "    rec_coord_2 = cv2.boundingRect(np.float32([tri_2]))\n",
        "    rec_coord_1 = cv2.boundingRect(np.float32([tri_1]))\n",
        "    \n",
        "    tri_2_crop = [(pt[0]-rec_coord_2[0], pt[1]-rec_coord_2[1]) for pt in tri_2]\n",
        "    tri_1_crop = [(pt[0]-rec_coord_1[0], pt[1]-rec_coord_1[1]) for pt in tri_1]\n",
        "    t_crop = [(pt[0]-rec_coord[0], pt[1]-rec_coord[1]) for pt in interm_pt]\n",
        "\n",
        "    width, height = rec_coord[2], rec_coord[3]\n",
        "    # set the size of the output image\n",
        "    output_size = (width, height)\n",
        "\n",
        "    # create a mask with the same shape as the region of interest\n",
        "    mask_shape = (height, width, 3)\n",
        "    mask = np.zeros(mask_shape, dtype=np.float32)\n",
        "\n",
        "    # fill the mask with a solid color inside the triangle\n",
        "    cv2.fillPoly(mask, [np.int32(t_crop)], (1.0, 1.0, 1.0), 16)\n",
        "\n",
        "    # extract regions of interest from the input images\n",
        "    x2, y2, w2, h2 = rec_coord_2\n",
        "    x1, y1, w1, h1 = rec_coord_1\n",
        "    #region of interest - roi\n",
        "    img2_roi = img2[y2:y2+h2, x2:x2+w2]\n",
        "    img1_roi = img1[y1:y1+h1, x1:x1+w1]\n",
        "\n",
        "\n",
        "    # compute affine transforms for the two input images\n",
        "    # apply the transforms to the input images\n",
        "    \n",
        "    warp2 = cv2.getAffineTransform(np.float32(tri_2_crop), np.float32(t_crop))\n",
        "    transform_img2 = cv2.warpAffine(img2_roi, warp2, output_size)\n",
        "    warp1 = cv2.getAffineTransform(np.float32(tri_1_crop), np.float32(t_crop))\n",
        "\n",
        "    transform_img1 = cv2.warpAffine(img1_roi, warp1, output_size)\n",
        "    # Compute the weighted sum of the transformed images\n",
        "    result_roi = cv2.addWeighted(transform_img1, 1.0 - alpha, transform_img2, alpha, 0.0)\n",
        "\n",
        "    # Extract the region of interest from the input image\n",
        "    img_roi = img[rec_coord[1]:rec_coord[1] + rec_coord[3], rec_coord[0]:rec_coord[0] + rec_coord[2]]\n",
        "\n",
        "    # Compute the weighted sum of the input image and the result ROI\n",
        "    w2 = (result_roi* mask)\n",
        "    w1 = img_roi*(1.0- mask)\n",
        "    img[rec_coord[1]:rec_coord[1] + rec_coord[3], rec_coord[0]:rec_coord[0] + rec_coord[2]] = cv2.add(w1, w2)\n",
        "\n"
      ],
      "metadata": {
        "id": "gmw5Zc1Sabio"
      },
      "execution_count": 124,
      "outputs": []
    },
    {
      "cell_type": "code",
      "execution_count": 125,
      "metadata": {
        "id": "fI3kh4tW3Qqi"
      },
      "outputs": [],
      "source": [
        "def text_file_input(path):\n",
        "    t1_points = []\n",
        "    t2_points = []\n",
        "    num_points = 0\n",
        "    \n",
        "    with open(path) as f:\n",
        "        # Read the first line and get the number of points\n",
        "        num_points = int(next(f))\n",
        "        \n",
        "        # Read the remaining lines and get the points for each triangle\n",
        "        for line in f:\n",
        "            points = list(map(int, line.split()))\n",
        "            t1_points.append((points[0], points[1]))\n",
        "            t2_points.append((points[2], points[3]))\n",
        "    \n",
        "    return t1_points, t2_points, num_points\n",
        "\n",
        "\n"
      ]
    },
    {
      "cell_type": "markdown",
      "source": [
        "## **Part A**"
      ],
      "metadata": {
        "id": "x4jYaaZMrFne"
      }
    },
    {
      "cell_type": "code",
      "source": [
        "# Load images\n",
        "img2 = cv2.imread('morgan.jpg')\n",
        "img1 = cv2.imread('ben.jpg')\n",
        "\n",
        "#Detect face\n",
        "detector = dlib.get_frontal_face_detector()\n",
        "\n",
        "predictor = dlib.shape_predictor('shape_predictor_68_face_landmarks.dat')\n",
        "\n",
        "#Taking user defined input from text file \"tile_pts.txt\"\n",
        "tile_pts1, tile_pts2 , no_tile_pts= text_file_input('tile_points_72.txt')\n",
        "\n",
        "h, w, c = img1.shape\n",
        "'''0 0 0 0\n",
        "0 459 0 459\n",
        "399 459 399 459\n",
        "399 0 399 0'''\n",
        "#Adding four corner points to given points read from the file\n",
        "tile_pts1 += [(0, 0), (0, h-1), (w-1, h-1), (w-1, 0)]\n",
        "tile_pts2 += [(0, 0), (0, h-1), (w-1, h-1), (w-1, 0)]\n",
        "# 68 tile points and four corner points\n",
        "points2 = tile_pts2 \n",
        "points1 = tile_pts1 \n",
        "\n",
        "#Initializing an empty list to store triangle indices\n",
        "ind_pnt_tri = []\n",
        "\n",
        "# print(type(points1))\n",
        "triangulation_correspond = delaunay_triangulation(points1, img1)\n",
        "# print(type(del_tri_1))\n",
        "\n",
        "\n",
        "for triangle in triangulation_correspond:\n",
        "    # Extracting the coordinates for each point of the triangle\n",
        "    point1, point2, point3 = (triangle[0], triangle[1]), (triangle[2], triangle[3]), (triangle[4], triangle[5])\n",
        "\n",
        "    # Determining the position of each point in the triangulation\n",
        "    index1, index2, index3 = check_index(point1, points1), check_index(point2, points1), check_index(point3, points1)\n",
        "\n",
        "    # Creating a tuple of the indices of the points and adding it to ind_pnt_tri\n",
        "    triangle_indices = (index1, index2, index3)\n",
        "    ind_pnt_tri.append(triangle_indices)\n",
        "\n",
        "\n",
        "#Initializing frames and an empty list to store images\n",
        "num_frames = 30\n",
        "morph_list_img = []\n",
        "#Looping through each frame\n",
        "for f in range(num_frames):  \n",
        "  # Initializing an empty list to store intermediate frame coordinates  \n",
        "    intermediate_frame = []\n",
        "    alph = (1.0 / num_frames )*f\n",
        "    # Interpolating between corresponding points in both images\n",
        "    for point1, point2 in zip(points1, points2):\n",
        "        alp_= 1- alph\n",
        "        x = int(((alp_) * point1[0]) + (alph * point2[0]))\n",
        "        y = int(((alp_) * point1[1]) + (alph * point2[1]))\n",
        "        intermediate_frame.append((x, y))\n",
        "\n",
        "    # Initializing an empty image\n",
        "    intermediate_morph = np.zeros_like(img1)\n",
        "    # Looping through each triangle in the triangulation\n",
        "    len_tr = len(ind_pnt_tri)\n",
        "    for j in range(len_tr):\n",
        "      # Extracting the indices of the points that form the current triangle\n",
        "        triangle = ind_pnt_tri[j]\n",
        "        x = triangle[0]\n",
        "        y = triangle[1]\n",
        "        z = triangle[2]\n",
        "        # Extracting the coordinates of the points in the original images\n",
        "        t2 = [points2[i] for i in (x, y, z)]\n",
        "\n",
        "        t1 = [points1[i] for i in (x, y, z)]\n",
        "\n",
        "        # Extracting the coordinates of the points in the intermediate frame\n",
        "        t = [intermediate_frame[i] for i in (x, y, z)]\n",
        "        # Applying affine transformation to the triangle and adding it to the morphed image\n",
        "        Affine_transform(img1, img2, intermediate_morph, t1, t2, t, alph)\n",
        "    morph_list_img.append(intermediate_morph)\n",
        "    # cv2_imshow(intermediate_morph)\n",
        "\n",
        "#making gif of morphed images\n",
        "\n",
        "\n",
        "# Convert the first input image to RGB format and add it to the GIF\n",
        "gif = [Image.fromarray(cnvt_colour_bgr2rgb(img1))]\n",
        "\n",
        "# Convert the morphed images to RGB format and add them to the GIF\n",
        "for i in range(num_frames):\n",
        "    gif.append(Image.fromarray(cnvt_colour_bgr2rgb(morph_list_img[i])))\n",
        "\n",
        "# Convert the second input image to RGB format and add it to the GIF\n",
        "gif.append(Image.fromarray(cnvt_colour_bgr2rgb(img2)))\n",
        "\n",
        "# Save the GIF animation\n",
        "frame = gif[0]\n",
        "frame.save(\"PartA.gif\", format=\"GIF\", append_images=gif[1:], save_all=True, duration=100, loop=0)\n",
        "\n"
      ],
      "metadata": {
        "id": "XENWQ85FrdgZ"
      },
      "execution_count": 133,
      "outputs": []
    },
    {
      "cell_type": "markdown",
      "source": [
        "### **Part B**"
      ],
      "metadata": {
        "id": "OhhMZ7oduYXn"
      }
    },
    {
      "cell_type": "code",
      "source": [
        "# Load images\n",
        "img2 = cv2.imread('morgan.jpg')\n",
        "img1 = cv2.imread('ben.jpg')\n",
        "\n",
        "#Detect face\n",
        "detector = dlib.get_frontal_face_detector()\n",
        "\n",
        "predictor = dlib.shape_predictor('shape_predictor_68_face_landmarks.dat')\n",
        "\n",
        "# Detect facial tile points\n",
        "tile1 = find_facial_tilepts(img1)\n",
        "tile2 = find_facial_tilepts(img2)\n",
        "\n",
        "# 68 tile points and four corner points\n",
        "points1 = mark_coord(img1) \n",
        "points2 = mark_coord(img2) \n",
        "# for x,y in points1:\n",
        "#   print(x,y)\n",
        "# print(type(points1))\n",
        "# print(points2)\n",
        "\n",
        "#Initializing an empty list to store triangle indices\n",
        "ind_pnt_tri = []\n",
        "\n",
        "# print(type(points1))\n",
        "triangulation_correspond = delaunay_triangulation(points1, img1)\n",
        "# print(type(del_tri_1))\n",
        "\n",
        "\n",
        "for triangle in triangulation_correspond:\n",
        "    # Extracting the coordinates for each point of the triangle\n",
        "    point1, point2, point3 = (triangle[0], triangle[1]), (triangle[2], triangle[3]), (triangle[4], triangle[5])\n",
        "\n",
        "    # Determining the position of each point in the triangulation\n",
        "    index1, index2, index3 = check_index(point1, points1), check_index(point2, points1), check_index(point3, points1)\n",
        "\n",
        "    # Creating a tuple of the indices of the points and adding it to ind_pnt_tri\n",
        "    triangle_indices = (index1, index2, index3)\n",
        "    ind_pnt_tri.append(triangle_indices)\n",
        "\n",
        "\n",
        "#Initializing frames and an empty list to store images\n",
        "num_frames = 30\n",
        "morph_list_img = []\n",
        "#Looping through each frame\n",
        "for f in range(num_frames):  \n",
        "  # Initializing an empty list to store intermediate frame coordinates  \n",
        "    intermediate_frame = []\n",
        "    alph = (1.0 / num_frames )*f\n",
        "    # Interpolating between corresponding points in both images\n",
        "    for point1, point2 in zip(points1, points2):\n",
        "        alp_= 1- alph\n",
        "        x = int(((alp_) * point1[0]) + (alph * point2[0]))\n",
        "        y = int(((alp_) * point1[1]) + (alph * point2[1]))\n",
        "        intermediate_frame.append((x, y))\n",
        "\n",
        "    # Initializing an empty image\n",
        "    intermediate_morph = np.zeros_like(img1)\n",
        "    # Looping through each triangle in the triangulation\n",
        "    len_tr = len(ind_pnt_tri)\n",
        "    for j in range(len_tr):\n",
        "      # Extracting the indices of the points that form the current triangle\n",
        "        triangle = ind_pnt_tri[j]\n",
        "        x = triangle[0]\n",
        "        y = triangle[1]\n",
        "        z = triangle[2]\n",
        "        # Extracting the coordinates of the points in the original images\n",
        "        t2 = [points2[i] for i in (x, y, z)]\n",
        "\n",
        "        t1 = [points1[i] for i in (x, y, z)]\n",
        "\n",
        "        # Extracting the coordinates of the points in the intermediate frame\n",
        "        t = [intermediate_frame[i] for i in (x, y, z)]\n",
        "        # Applying affine transformation to the triangle and adding it to the morphed image\n",
        "        Affine_transform(img1, img2, intermediate_morph, t1, t2, t, alph)\n",
        "    morph_list_img.append(intermediate_morph)\n",
        "    # cv2_imshow(intermediate_morph)\n",
        "\n",
        "#making gif of morphed images\n",
        "\n",
        "\n",
        "# Convert the first input image to RGB format and add it to the GIF\n",
        "gif = [Image.fromarray(cnvt_colour_bgr2rgb(img1))]\n",
        "\n",
        "# Convert the morphed images to RGB format and add them to the GIF\n",
        "for i in range(num_frames):\n",
        "    gif.append(Image.fromarray(cnvt_colour_bgr2rgb(morph_list_img[i])))\n",
        "\n",
        "# Convert the second input image to RGB format and add it to the GIF\n",
        "gif.append(Image.fromarray(cnvt_colour_bgr2rgb(img2)))\n",
        "\n",
        "# Save the GIF animation\n",
        "frame = gif[0]\n",
        "frame.save(\"PartB.gif\", format=\"GIF\", append_images=gif[1:], save_all=True, duration=100, loop=0)\n"
      ],
      "metadata": {
        "id": "DNy8rPaQatFI"
      },
      "execution_count": 127,
      "outputs": []
    },
    {
      "cell_type": "code",
      "source": [],
      "metadata": {
        "id": "AwF1g72bIwAk"
      },
      "execution_count": null,
      "outputs": []
    }
  ],
  "metadata": {
    "colab": {
      "provenance": []
    },
    "gpuClass": "standard",
    "kernelspec": {
      "display_name": "Python 3",
      "name": "python3"
    },
    "language_info": {
      "name": "python"
    }
  },
  "nbformat": 4,
  "nbformat_minor": 0
}